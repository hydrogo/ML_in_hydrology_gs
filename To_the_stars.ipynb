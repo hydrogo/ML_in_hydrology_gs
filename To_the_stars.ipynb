{
 "cells": [
  {
   "cell_type": "markdown",
   "metadata": {},
   "source": [
    "# Getting started with machine learning in hydrology\n",
    "\n",
    "Georgy Ayzel, Institute of Water Problems (Moscow, Russia), facebook.com/ayzelgv\n",
    "\n",
    "## System requrements\n",
    "* Ubuntu 14.04 LTS\n",
    "* Anaconda Python (ver. 3.5) distribution\n",
    "* Git\n",
    "\n",
    "## How can I fetch this ipython notebook file?\n",
    "1. Clone [my github repo](https://github.com/hydrogo/ML_in_hydrology_gs) to your local machine (type \"git clone https://github.com/hydrogo/ML_in_hydrology_gs\" in command line)\n",
    "2. Change working directory to \"ML_in_hydrology_gs\" (type \"cd ML_in_hydrology_gs\" in command line)\n",
    "3. Start ipython session with typing \"ipython notebook\" in command line\n",
    "4. After new tab with ipython notebook running session creation - tap to \"To_the_stars.ipynb\"\n",
    "5. Profit!"
   ]
  },
  {
   "cell_type": "markdown",
   "metadata": {},
   "source": [
    "## Why Ubuntu?\n",
    "* It's free\n",
    "* Pinguins are cute\n",
    "![alt text](http://www.picgifs.com/graphics/t/tux/graphics-tux-850120.gif)\n"
   ]
  },
  {
   "cell_type": "markdown",
   "metadata": {},
   "source": [
    "## Why Python?\n",
    "* It's free\n",
    "* It's multiplatform \n",
    "* Easy to learn, fast to develop and prototyping\n",
    "* Many directions of use: from system administration to science-related computations and web applications\n",
    "![alt text](http://www.ozassignmenthelp.com.au/wp-content/uploads/2013/07/python-programming-assignment-help.png)"
   ]
  },
  {
   "cell_type": "markdown",
   "metadata": {},
   "source": [
    "## Python in Earth Sciences\n",
    "Lin, J. W.-B. (2012). [**Why Python Is the Next Wave in Earth Sciences Computing**](http://journals.ametsoc.org/doi/full/10.1175/BAMS-D-12-00148.1). *Bulletin of the American Meteorological Society*, 93(12), 1823–1824. doi:10.1175/BAMS-D-12-00148.1\n",
    "\n",
    "Sáenz, Jon, Juan Zubillaga, and Jesús Fernández (2002). [**Geophysical data analysis using Python.**](http://www.sciencedirect.com/science/article/pii/S0098300401000863) *Computers & geosciences*, 28.4, 457-465. doi:10.1016/S0098-3004(01)00086-3 "
   ]
  },
  {
   "cell_type": "markdown",
   "metadata": {},
   "source": [
    "## Python in Hydrology\n",
    "* Only 21 search results with keyword \"python\" in Environmental modelling & Software since 2010\n",
    "* No one result for Journal of Hydrology since 1980\n",
    "\n",
    "Are hydrologists really indifferent to the programming language used for everyday needs?\n",
    "\n",
    "Or they don't take it into account to tell us of research tools?\n",
    "\n",
    "By the way in 2014 [Fourth Symposium on Advances in Modeling and Analysis Using Python](https://ams.confex.com/ams/94Annual/webprogram/4PYTHON.html) was held. Nevertheless only one hydrology-related abstract was presented: [A Python-Based Automatic Data Aggregation Framework for Hydrology Models](https://ams.confex.com/ams/94Annual/videogateway.cgi/id/26395?recordingid=26395).\n",
    "\n",
    "** It's time to try python and tell to community of advantages and drawbacks **"
   ]
  },
  {
   "cell_type": "markdown",
   "metadata": {},
   "source": [
    "# Time to start"
   ]
  },
  {
   "cell_type": "markdown",
   "metadata": {},
   "source": [
    "## What do we expect from this guide?"
   ]
  },
  {
   "cell_type": "markdown",
   "metadata": {},
   "source": [
    "**We would like to try basic samples of hydrological-related scientific research workflow.**\n",
    "\n",
    "And we will go through this typical workflow step-by-step."
   ]
  },
  {
   "cell_type": "markdown",
   "metadata": {},
   "source": [
    "## Data we use\n",
    "\n",
    "Simple hydrometeorolodical daily data from the articles in Hydrological Sciences Journal Special issue: [Modelling Temporally-variable Catchments](http://www.tandfonline.com/toc/thsj20/60/7-8).\n",
    "\n",
    "We selected only one example watershed of Blackberry Creek at Yorkville (USA).\n",
    "\n",
    "![alt text](https://github.com/hydrogo/ML_in_hydrology_gs/blob/master/data/basin_figure.png?raw=true)\n",
    "\n",
    "[Original research paper and supplementary material](http://www.tandfonline.com/doi/suppl/10.1080/02626667.2014.967248) "
   ]
  },
  {
   "cell_type": "markdown",
   "metadata": {},
   "source": [
    "## Forming\n",
    "\n",
    "Let's fetch some data from .txt file "
   ]
  },
  {
   "cell_type": "code",
   "execution_count": 1,
   "metadata": {
    "collapsed": false
   },
   "outputs": [
    {
     "name": "stdout",
     "output_type": "stream",
     "text": [
      "Populating the interactive namespace from numpy and matplotlib\n"
     ]
    }
   ],
   "source": [
    "# import some useful libraries\n",
    "import pandas as pd\n",
    "import numpy as np\n",
    "% pylab inline "
   ]
  },
  {
   "cell_type": "code",
   "execution_count": 26,
   "metadata": {
    "collapsed": false
   },
   "outputs": [],
   "source": [
    "raw_data = pd.read_csv('./data/blackberry_1980-2011.txt', skiprows=12, header=0, sep=';', usecols=[0, 1, 2, 4, 5], \\\n",
    "                       names=['Date', 'Qobs', 'Ptot', 'Temp', 'PE'], index_col=0, parse_dates=True)"
   ]
  },
  {
   "cell_type": "code",
   "execution_count": 31,
   "metadata": {
    "collapsed": false
   },
   "outputs": [
    {
     "data": {
      "text/plain": [
       "<matplotlib.axes._subplots.AxesSubplot at 0x7fc9741b7a90>"
      ]
     },
     "execution_count": 31,
     "metadata": {},
     "output_type": "execute_result"
    },
    {
     "data": {
      "image/png": "[encoded data removed]",
      "text/plain": [
       "<matplotlib.figure.Figure at 0x7fc974237588>"
      ]
     },
     "metadata": {},
     "output_type": "display_data"
    }
   ],
   "source": [
    "raw_data.Qobs['1980'].plot()"
   ]
  },
  {
   "cell_type": "code",
   "execution_count": null,
   "metadata": {
    "collapsed": true
   },
   "outputs": [],
   "source": []
  }
 ],
 "metadata": {
  "kernelspec": {
   "display_name": "Python 3",
   "language": "python",
   "name": "python3"
  },
  "language_info": {
   "codemirror_mode": {
    "name": "ipython",
    "version": 3
   },
   "file_extension": ".py",
   "mimetype": "text/x-python",
   "name": "python",
   "nbconvert_exporter": "python",
   "pygments_lexer": "ipython3",
   "version": "3.4.3"
  }
 },
 "nbformat": 4,
 "nbformat_minor": 0
}
